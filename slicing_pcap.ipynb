{
 "cells": [
  {
   "cell_type": "code",
   "execution_count": 1,
   "id": "434521a0",
   "metadata": {},
   "outputs": [
    {
     "name": "stderr",
     "output_type": "stream",
     "text": [
      "WARNING: PcapReader: unknown LL type [1]/[0x1]. Using Raw packets\n",
      "WARNING: PcapWriter: unknown LL type for Raw. Using type 1 (Ethernet)\n",
      "WARNING: Inconsistent linktypes detected! The resulting file might contain invalid packets.\n"
     ]
    },
    {
     "ename": "KeyError",
     "evalue": "<class 'scapy.packet.Raw'>",
     "output_type": "error",
     "traceback": [
      "\u001b[1;31m---------------------------------------------------------------------------\u001b[0m",
      "\u001b[1;31mKeyError\u001b[0m                                  Traceback (most recent call last)",
      "Cell \u001b[1;32mIn[1], line 18\u001b[0m\n\u001b[0;32m     16\u001b[0m     \u001b[38;5;28;01mif\u001b[39;00m i \u001b[38;5;241m>\u001b[39m end_idx:\n\u001b[0;32m     17\u001b[0m         \u001b[38;5;28;01mbreak\u001b[39;00m\n\u001b[1;32m---> 18\u001b[0m     writer\u001b[38;5;241m.\u001b[39mwrite(pkt)\n\u001b[0;32m     20\u001b[0m reader\u001b[38;5;241m.\u001b[39mclose()\n\u001b[0;32m     21\u001b[0m writer\u001b[38;5;241m.\u001b[39mclose()\n",
      "File \u001b[1;32mc:\\Users\\jckso\\anaconda3\\envs\\kitsune_v3\\Lib\\site-packages\\scapy\\utils.py:2273\u001b[0m, in \u001b[0;36mGenericRawPcapWriter.write\u001b[1;34m(self, pkt)\u001b[0m\n\u001b[0;32m   2266\u001b[0m \u001b[38;5;28;01mif\u001b[39;00m \u001b[38;5;129;01mnot\u001b[39;00m \u001b[38;5;28misinstance\u001b[39m(p, \u001b[38;5;28mbytes\u001b[39m) \u001b[38;5;129;01mand\u001b[39;00m \\\n\u001b[0;32m   2267\u001b[0m         \u001b[38;5;28mself\u001b[39m\u001b[38;5;241m.\u001b[39mlinktype \u001b[38;5;241m!=\u001b[39m conf\u001b[38;5;241m.\u001b[39ml2types\u001b[38;5;241m.\u001b[39mget(\u001b[38;5;28mtype\u001b[39m(p), \u001b[38;5;28;01mNone\u001b[39;00m):\n\u001b[0;32m   2268\u001b[0m     warning(\u001b[38;5;124m\"\u001b[39m\u001b[38;5;124mInconsistent linktypes detected!\u001b[39m\u001b[38;5;124m\"\u001b[39m\n\u001b[0;32m   2269\u001b[0m             \u001b[38;5;124m\"\u001b[39m\u001b[38;5;124m The resulting file might contain\u001b[39m\u001b[38;5;124m\"\u001b[39m\n\u001b[0;32m   2270\u001b[0m             \u001b[38;5;124m\"\u001b[39m\u001b[38;5;124m invalid packets.\u001b[39m\u001b[38;5;124m\"\u001b[39m\n\u001b[0;32m   2271\u001b[0m             )\n\u001b[1;32m-> 2273\u001b[0m \u001b[38;5;28mself\u001b[39m\u001b[38;5;241m.\u001b[39mwrite_packet(p)\n",
      "File \u001b[1;32mc:\\Users\\jckso\\anaconda3\\envs\\kitsune_v3\\Lib\\site-packages\\scapy\\utils.py:2199\u001b[0m, in \u001b[0;36mGenericPcapWriter.write_packet\u001b[1;34m(self, packet, sec, usec, caplen, wirelen)\u001b[0m\n\u001b[0;32m   2197\u001b[0m direction \u001b[38;5;241m=\u001b[39m \u001b[38;5;28mgetattr\u001b[39m(packet, \u001b[38;5;124m\"\u001b[39m\u001b[38;5;124mdirection\u001b[39m\u001b[38;5;124m\"\u001b[39m, \u001b[38;5;28;01mNone\u001b[39;00m)\n\u001b[0;32m   2198\u001b[0m \u001b[38;5;28;01mif\u001b[39;00m \u001b[38;5;129;01mnot\u001b[39;00m \u001b[38;5;28misinstance\u001b[39m(packet, \u001b[38;5;28mbytes\u001b[39m):\n\u001b[1;32m-> 2199\u001b[0m     linktype: \u001b[38;5;28mint\u001b[39m \u001b[38;5;241m=\u001b[39m conf\u001b[38;5;241m.\u001b[39ml2types\u001b[38;5;241m.\u001b[39mlayer2num[\n\u001b[0;32m   2200\u001b[0m         packet\u001b[38;5;241m.\u001b[39m\u001b[38;5;18m__class__\u001b[39m\n\u001b[0;32m   2201\u001b[0m     ]\n\u001b[0;32m   2202\u001b[0m \u001b[38;5;28;01melse\u001b[39;00m:\n\u001b[0;32m   2203\u001b[0m     linktype \u001b[38;5;241m=\u001b[39m \u001b[38;5;28mself\u001b[39m\u001b[38;5;241m.\u001b[39mlinktype\n",
      "\u001b[1;31mKeyError\u001b[0m: <class 'scapy.packet.Raw'>"
     ]
    }
   ],
   "source": [
    "from scapy.utils import PcapReader, PcapWriter\n",
    "\n",
    "infile  = r\"Dec2019_00000_20191206100500.pcap\"\n",
    "\n",
    "start_idx = 14_000_000  # first packet index to include (0-based)\n",
    "end_idx   = 24_000_000        # last  packet index to include\n",
    "\n",
    "outfile = rf\"Dec2019_sliced_packets_{start_idx}-{end_idx}.pcap\"\n",
    "\n",
    "reader = PcapReader(infile)\n",
    "writer = PcapWriter(outfile, sync=True)\n",
    "\n",
    "for i, pkt in enumerate(reader):\n",
    "    if i < start_idx:\n",
    "        continue\n",
    "    if i > end_idx:\n",
    "        break\n",
    "    writer.write(pkt)\n",
    "\n",
    "reader.close()\n",
    "writer.close()\n",
    "print(f\"Wrote {end_idx - start_idx + 1} packets to {outfile} (packets {start_idx} to {end_idx})\")"
   ]
  }
 ],
 "metadata": {
  "kernelspec": {
   "display_name": "kitsune_v3",
   "language": "python",
   "name": "python3"
  },
  "language_info": {
   "codemirror_mode": {
    "name": "ipython",
    "version": 3
   },
   "file_extension": ".py",
   "mimetype": "text/x-python",
   "name": "python",
   "nbconvert_exporter": "python",
   "pygments_lexer": "ipython3",
   "version": "3.12.9"
  }
 },
 "nbformat": 4,
 "nbformat_minor": 5
}
